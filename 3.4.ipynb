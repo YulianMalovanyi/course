{
 "cells": [
  {
   "cell_type": "code",
   "execution_count": 12,
   "metadata": {},
   "outputs": [],
   "source": [
    "import pandas as pd\n",
    "import numpy as np\n",
    "df = pd.read_csv(\"C:/Users/cucur/Downloads/supermarket_sales.csv\")"
   ]
  },
  {
   "cell_type": "code",
   "execution_count": 13,
   "metadata": {},
   "outputs": [
    {
     "data": {
      "text/plain": [
       "Branch  City     \n",
       "A       Yangon       106200.3705\n",
       "B       Mandalay     106197.6720\n",
       "C       Naypyitaw    110568.7065\n",
       "Name: Total, dtype: float64"
      ]
     },
     "execution_count": 13,
     "metadata": {},
     "output_type": "execute_result"
    }
   ],
   "source": [
    "df.groupby([\"Branch\", \"City\"])[\"Total\"].sum()"
   ]
  },
  {
   "cell_type": "code",
   "execution_count": 14,
   "metadata": {},
   "outputs": [
    {
     "name": "stdout",
     "output_type": "stream",
     "text": [
      "Product line  Electronic accessories  Fashion accessories  Food and beverages  \\\n",
      "Branch                                                                          \n",
      "A                                 60                   51                  58   \n",
      "B                                 55                   62                  50   \n",
      "C                                 55                   65                  66   \n",
      "\n",
      "Product line  Health and beauty  Home and lifestyle  Sports and travel  \n",
      "Branch                                                                  \n",
      "A                            47                  65                 59  \n",
      "B                            53                  50                 62  \n",
      "C                            52                  45                 45  \n"
     ]
    }
   ],
   "source": [
    "\n",
    "invoices_by_category = df.pivot_table(\n",
    "    index='Branch',          \n",
    "    columns='Product line',  \n",
    "    values='Invoice ID',     \n",
    "    aggfunc='count'          \n",
    ")\n",
    "\n",
    "print(invoices_by_category)\n"
   ]
  },
  {
   "cell_type": "code",
   "execution_count": 15,
   "metadata": {},
   "outputs": [
    {
     "name": "stdout",
     "output_type": "stream",
     "text": [
      "A\n"
     ]
    }
   ],
   "source": [
    "max_value = invoices_by_category['Electronic accessories'].max()\n",
    "max_branch = invoices_by_category['Electronic accessories'] == max_value\n",
    "\n",
    "print(invoices_by_category[max_branch].index[0])\n"
   ]
  },
  {
   "cell_type": "code",
   "execution_count": 37,
   "metadata": {},
   "outputs": [
    {
     "name": "stdout",
     "output_type": "stream",
     "text": [
      "<pandas.core.groupby.generic.SeriesGroupBy object at 0x00000241DE3C88F0>\n"
     ]
    }
   ],
   "source": [
    "a = df.groupby(\"Invoice ID\")[\"Gender\"]\n",
    "print(a)\n"
   ]
  },
  {
   "cell_type": "code",
   "execution_count": 38,
   "metadata": {},
   "outputs": [
    {
     "name": "stdout",
     "output_type": "stream",
     "text": [
      "Hour\n",
      "10    101\n",
      "11     90\n",
      "12     89\n",
      "13    103\n",
      "14     83\n",
      "15    102\n",
      "16     77\n",
      "17     74\n",
      "18     93\n",
      "19    113\n",
      "20     75\n",
      "dtype: int64\n",
      "Day of Week\n",
      "Friday       139\n",
      "Monday       125\n",
      "Saturday     164\n",
      "Sunday       133\n",
      "Thursday     138\n",
      "Tuesday      158\n",
      "Wednesday    143\n",
      "dtype: int64\n"
     ]
    }
   ],
   "source": [
    "df['Date'] = pd.to_datetime(df['Date'])\n",
    "df['Hour'] = df['Time'].apply(lambda x: int(x.split(':')[0]))\n",
    "df['Day of Week'] = df['Date'].dt.day_name()\n",
    "\n",
    "sales_by_time = df.groupby(['Hour']).size()\n",
    "sales_by_day = df.groupby(['Day of Week']).size()\n",
    "\n",
    "print(sales_by_time)\n",
    "print(sales_by_day)"
   ]
  },
  {
   "cell_type": "code",
   "execution_count": 39,
   "metadata": {},
   "outputs": [
    {
     "name": "stdout",
     "output_type": "stream",
     "text": [
      "Branch\n",
      "A    Home and lifestyle\n",
      "B     Sports and travel\n",
      "C    Food and beverages\n",
      "dtype: object\n"
     ]
    }
   ],
   "source": [
    "revenue_by_branch = df.groupby(['Branch', 'Product line'])['Total'].sum().unstack().idxmax(axis=1)\n",
    "print(revenue_by_branch)"
   ]
  },
  {
   "cell_type": "code",
   "execution_count": 41,
   "metadata": {},
   "outputs": [
    {
     "name": "stdout",
     "output_type": "stream",
     "text": [
      "Gender\n",
      "Female    Fashion accessories\n",
      "Male        Health and beauty\n",
      "dtype: object\n"
     ]
    }
   ],
   "source": [
    "popular_products = df.groupby(['Gender', 'Product line']).size().unstack().idxmax(axis=1)\n",
    "print(popular_products)"
   ]
  }
 ],
 "metadata": {
  "kernelspec": {
   "display_name": "base",
   "language": "python",
   "name": "python3"
  },
  "language_info": {
   "codemirror_mode": {
    "name": "ipython",
    "version": 3
   },
   "file_extension": ".py",
   "mimetype": "text/x-python",
   "name": "python",
   "nbconvert_exporter": "python",
   "pygments_lexer": "ipython3",
   "version": "3.12.4"
  }
 },
 "nbformat": 4,
 "nbformat_minor": 2
}
